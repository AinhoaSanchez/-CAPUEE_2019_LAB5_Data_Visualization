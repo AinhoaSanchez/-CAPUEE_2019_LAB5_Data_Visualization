{
 "cells": [
  {
   "attachments": {},
   "cell_type": "markdown",
   "metadata": {},
   "source": [
    "# CAPUEE 2019: Data Visualization Using Python\n",
    "\n",
    "## Introduction\n",
    "Until now, we have worked with Arduino, Raspberry Pi, APIs, python, with a common objective: Retrieve data for a specific objective. Using data, we can observe how is the behavior of the load we are controlling and we can schedule its operation according to some specific signals, such as light intensity, market prices, time, etc. \n",
    "\n",
    "A useful way to see that the load is behaving in the way we want is by using data visualization tools. Data visualization has become a key activity in companies to extract conclusions and define the next steps of the company.\n",
    "\n",
    "In this session, we will use a wind turbine dataset, using data shared by DTU at the following DOIs: 10.11583/DTU.7856891 and 10.11583/DTU.7856888. We will have historical observations of V52 Wind turbine. We will work with historical observations, using a csv file. \n",
    "\n",
    "![V52 Wind Turbine](./images/v52turbine_3.jpg)\n",
    "\n",
    "We will use different Python libraries to visualize these data. Specifically, the libraries used in this lab session will be matplotlib, plotly and Dash. \n",
    "\n",
    "## Importing Libraries\n",
    "\n"
   ]
  },
  {
   "cell_type": "code",
   "execution_count": 3,
   "metadata": {},
   "outputs": [],
   "source": [
    "# data processing\n",
    "import pandas as pd \n",
    "# numerical library \n",
    "import numpy as np\n",
    "# timer, dates\n",
    "import datetime\n",
    "# data visualization libraries\n",
    "import matplotlib.pyplot as plt "
   ]
  },
  {
   "cell_type": "markdown",
   "metadata": {},
   "source": [
    "## Loading Data"
   ]
  },
  {
   "cell_type": "code",
   "execution_count": 23,
   "metadata": {},
   "outputs": [],
   "source": [
    "df = pd.read_csv('./data/V52_ExtensiveData.csv', sep='\\t', skiprows=12)"
   ]
  },
  {
   "cell_type": "markdown",
   "metadata": {},
   "source": [
    "## First look at the dataset"
   ]
  },
  {
   "cell_type": "code",
   "execution_count": 24,
   "metadata": {},
   "outputs": [
    {
     "data": {
      "text/html": [
       "<div>\n",
       "<style scoped>\n",
       "    .dataframe tbody tr th:only-of-type {\n",
       "        vertical-align: middle;\n",
       "    }\n",
       "\n",
       "    .dataframe tbody tr th {\n",
       "        vertical-align: top;\n",
       "    }\n",
       "\n",
       "    .dataframe thead th {\n",
       "        text-align: right;\n",
       "    }\n",
       "</style>\n",
       "<table border=\"1\" class=\"dataframe\">\n",
       "  <thead>\n",
       "    <tr style=\"text-align: right;\">\n",
       "      <th></th>\n",
       "      <th>Date</th>\n",
       "      <th>Wsp_44m</th>\n",
       "      <th>Wdir_41m</th>\n",
       "      <th>ActPow</th>\n",
       "      <th>RePow</th>\n",
       "      <th>ActPow_std</th>\n",
       "      <th>Wsp_44m_std</th>\n",
       "      <th>Wdir_41m_std</th>\n",
       "      <th>stability</th>\n",
       "    </tr>\n",
       "  </thead>\n",
       "  <tbody>\n",
       "    <tr>\n",
       "      <th>0</th>\n",
       "      <td>201801010000</td>\n",
       "      <td>4.71803</td>\n",
       "      <td>200.743</td>\n",
       "      <td>64.6673</td>\n",
       "      <td>0.000860</td>\n",
       "      <td>33.4251</td>\n",
       "      <td>0.566131</td>\n",
       "      <td>6.45730</td>\n",
       "      <td>1.0</td>\n",
       "    </tr>\n",
       "    <tr>\n",
       "      <th>1</th>\n",
       "      <td>201801010010</td>\n",
       "      <td>5.44100</td>\n",
       "      <td>201.768</td>\n",
       "      <td>70.8152</td>\n",
       "      <td>-0.000657</td>\n",
       "      <td>26.3829</td>\n",
       "      <td>0.765691</td>\n",
       "      <td>6.66940</td>\n",
       "      <td>1.0</td>\n",
       "    </tr>\n",
       "    <tr>\n",
       "      <th>2</th>\n",
       "      <td>201801010020</td>\n",
       "      <td>5.32178</td>\n",
       "      <td>197.962</td>\n",
       "      <td>80.8037</td>\n",
       "      <td>-0.000617</td>\n",
       "      <td>30.2002</td>\n",
       "      <td>0.603442</td>\n",
       "      <td>6.99113</td>\n",
       "      <td>1.0</td>\n",
       "    </tr>\n",
       "    <tr>\n",
       "      <th>3</th>\n",
       "      <td>201801010030</td>\n",
       "      <td>5.95325</td>\n",
       "      <td>204.606</td>\n",
       "      <td>86.1123</td>\n",
       "      <td>-0.002370</td>\n",
       "      <td>43.1192</td>\n",
       "      <td>0.872915</td>\n",
       "      <td>5.47062</td>\n",
       "      <td>1.0</td>\n",
       "    </tr>\n",
       "    <tr>\n",
       "      <th>4</th>\n",
       "      <td>201801010040</td>\n",
       "      <td>6.17765</td>\n",
       "      <td>204.398</td>\n",
       "      <td>110.8570</td>\n",
       "      <td>0.001033</td>\n",
       "      <td>29.9507</td>\n",
       "      <td>0.550160</td>\n",
       "      <td>4.93713</td>\n",
       "      <td>1.0</td>\n",
       "    </tr>\n",
       "  </tbody>\n",
       "</table>\n",
       "</div>"
      ],
      "text/plain": [
       "           Date  Wsp_44m  Wdir_41m    ActPow     RePow  ActPow_std  \\\n",
       "0  201801010000  4.71803   200.743   64.6673  0.000860     33.4251   \n",
       "1  201801010010  5.44100   201.768   70.8152 -0.000657     26.3829   \n",
       "2  201801010020  5.32178   197.962   80.8037 -0.000617     30.2002   \n",
       "3  201801010030  5.95325   204.606   86.1123 -0.002370     43.1192   \n",
       "4  201801010040  6.17765   204.398  110.8570  0.001033     29.9507   \n",
       "\n",
       "   Wsp_44m_std  Wdir_41m_std  stability  \n",
       "0     0.566131       6.45730        1.0  \n",
       "1     0.765691       6.66940        1.0  \n",
       "2     0.603442       6.99113        1.0  \n",
       "3     0.872915       5.47062        1.0  \n",
       "4     0.550160       4.93713        1.0  "
      ]
     },
     "execution_count": 24,
     "metadata": {},
     "output_type": "execute_result"
    }
   ],
   "source": [
    "df.head()"
   ]
  },
  {
   "cell_type": "code",
   "execution_count": 25,
   "metadata": {},
   "outputs": [
    {
     "data": {
      "text/plain": [
       "(52241, 9)"
      ]
     },
     "execution_count": 25,
     "metadata": {},
     "output_type": "execute_result"
    }
   ],
   "source": [
    "df.shape"
   ]
  },
  {
   "cell_type": "code",
   "execution_count": 26,
   "metadata": {},
   "outputs": [
    {
     "data": {
      "text/plain": [
       "Date              int64\n",
       "Wsp_44m         float64\n",
       "Wdir_41m        float64\n",
       "ActPow          float64\n",
       "RePow           float64\n",
       "ActPow_std      float64\n",
       "Wsp_44m_std     float64\n",
       "Wdir_41m_std    float64\n",
       "stability       float64\n",
       "dtype: object"
      ]
     },
     "execution_count": 26,
     "metadata": {},
     "output_type": "execute_result"
    }
   ],
   "source": [
    "df.dtypes"
   ]
  },
  {
   "cell_type": "markdown",
   "metadata": {},
   "source": [
    "Questions for you: \n",
    "\n",
    "1. Are all the columns in the right format? \n",
    "2. Do we have to change any of the types? \n",
    "3. Are the columns' name useful for us? What's the information they are trying to tell us? "
   ]
  },
  {
   "cell_type": "markdown",
   "metadata": {},
   "source": [
    "## Changing columns' type"
   ]
  },
  {
   "cell_type": "code",
   "execution_count": 27,
   "metadata": {},
   "outputs": [],
   "source": [
    "df['Date'] = pd.to_datetime(df['Date'], format='%Y%m%d%H%M')"
   ]
  },
  {
   "cell_type": "code",
   "execution_count": 28,
   "metadata": {},
   "outputs": [
    {
     "data": {
      "text/html": [
       "<div>\n",
       "<style scoped>\n",
       "    .dataframe tbody tr th:only-of-type {\n",
       "        vertical-align: middle;\n",
       "    }\n",
       "\n",
       "    .dataframe tbody tr th {\n",
       "        vertical-align: top;\n",
       "    }\n",
       "\n",
       "    .dataframe thead th {\n",
       "        text-align: right;\n",
       "    }\n",
       "</style>\n",
       "<table border=\"1\" class=\"dataframe\">\n",
       "  <thead>\n",
       "    <tr style=\"text-align: right;\">\n",
       "      <th></th>\n",
       "      <th>Date</th>\n",
       "      <th>Wsp_44m</th>\n",
       "      <th>Wdir_41m</th>\n",
       "      <th>ActPow</th>\n",
       "      <th>RePow</th>\n",
       "      <th>ActPow_std</th>\n",
       "      <th>Wsp_44m_std</th>\n",
       "      <th>Wdir_41m_std</th>\n",
       "      <th>stability</th>\n",
       "    </tr>\n",
       "  </thead>\n",
       "  <tbody>\n",
       "    <tr>\n",
       "      <th>0</th>\n",
       "      <td>2018-01-01 00:00:00</td>\n",
       "      <td>4.71803</td>\n",
       "      <td>200.743</td>\n",
       "      <td>64.6673</td>\n",
       "      <td>0.000860</td>\n",
       "      <td>33.4251</td>\n",
       "      <td>0.566131</td>\n",
       "      <td>6.45730</td>\n",
       "      <td>1.0</td>\n",
       "    </tr>\n",
       "    <tr>\n",
       "      <th>1</th>\n",
       "      <td>2018-01-01 00:10:00</td>\n",
       "      <td>5.44100</td>\n",
       "      <td>201.768</td>\n",
       "      <td>70.8152</td>\n",
       "      <td>-0.000657</td>\n",
       "      <td>26.3829</td>\n",
       "      <td>0.765691</td>\n",
       "      <td>6.66940</td>\n",
       "      <td>1.0</td>\n",
       "    </tr>\n",
       "    <tr>\n",
       "      <th>2</th>\n",
       "      <td>2018-01-01 00:20:00</td>\n",
       "      <td>5.32178</td>\n",
       "      <td>197.962</td>\n",
       "      <td>80.8037</td>\n",
       "      <td>-0.000617</td>\n",
       "      <td>30.2002</td>\n",
       "      <td>0.603442</td>\n",
       "      <td>6.99113</td>\n",
       "      <td>1.0</td>\n",
       "    </tr>\n",
       "    <tr>\n",
       "      <th>3</th>\n",
       "      <td>2018-01-01 00:30:00</td>\n",
       "      <td>5.95325</td>\n",
       "      <td>204.606</td>\n",
       "      <td>86.1123</td>\n",
       "      <td>-0.002370</td>\n",
       "      <td>43.1192</td>\n",
       "      <td>0.872915</td>\n",
       "      <td>5.47062</td>\n",
       "      <td>1.0</td>\n",
       "    </tr>\n",
       "    <tr>\n",
       "      <th>4</th>\n",
       "      <td>2018-01-01 00:40:00</td>\n",
       "      <td>6.17765</td>\n",
       "      <td>204.398</td>\n",
       "      <td>110.8570</td>\n",
       "      <td>0.001033</td>\n",
       "      <td>29.9507</td>\n",
       "      <td>0.550160</td>\n",
       "      <td>4.93713</td>\n",
       "      <td>1.0</td>\n",
       "    </tr>\n",
       "  </tbody>\n",
       "</table>\n",
       "</div>"
      ],
      "text/plain": [
       "                 Date  Wsp_44m  Wdir_41m    ActPow     RePow  ActPow_std  \\\n",
       "0 2018-01-01 00:00:00  4.71803   200.743   64.6673  0.000860     33.4251   \n",
       "1 2018-01-01 00:10:00  5.44100   201.768   70.8152 -0.000657     26.3829   \n",
       "2 2018-01-01 00:20:00  5.32178   197.962   80.8037 -0.000617     30.2002   \n",
       "3 2018-01-01 00:30:00  5.95325   204.606   86.1123 -0.002370     43.1192   \n",
       "4 2018-01-01 00:40:00  6.17765   204.398  110.8570  0.001033     29.9507   \n",
       "\n",
       "   Wsp_44m_std  Wdir_41m_std  stability  \n",
       "0     0.566131       6.45730        1.0  \n",
       "1     0.765691       6.66940        1.0  \n",
       "2     0.603442       6.99113        1.0  \n",
       "3     0.872915       5.47062        1.0  \n",
       "4     0.550160       4.93713        1.0  "
      ]
     },
     "execution_count": 28,
     "metadata": {},
     "output_type": "execute_result"
    }
   ],
   "source": [
    "df.head()"
   ]
  },
  {
   "cell_type": "markdown",
   "metadata": {},
   "source": [
    "## Exploratory Data Analysis (EDA)"
   ]
  },
  {
   "cell_type": "code",
   "execution_count": 29,
   "metadata": {},
   "outputs": [
    {
     "name": "stdout",
     "output_type": "stream",
     "text": [
      "<class 'pandas.core.frame.DataFrame'>\n",
      "RangeIndex: 52241 entries, 0 to 52240\n",
      "Data columns (total 9 columns):\n",
      "Date            52241 non-null datetime64[ns]\n",
      "Wsp_44m         48988 non-null float64\n",
      "Wdir_41m        48988 non-null float64\n",
      "ActPow          52103 non-null float64\n",
      "RePow           52103 non-null float64\n",
      "ActPow_std      52103 non-null float64\n",
      "Wsp_44m_std     48988 non-null float64\n",
      "Wdir_41m_std    48988 non-null float64\n",
      "stability       52241 non-null float64\n",
      "dtypes: datetime64[ns](1), float64(8)\n",
      "memory usage: 3.6 MB\n"
     ]
    }
   ],
   "source": [
    "df.info()"
   ]
  },
  {
   "cell_type": "code",
   "execution_count": null,
   "metadata": {},
   "outputs": [],
   "source": []
  }
 ],
 "metadata": {
  "kernelspec": {
   "display_name": "Python 3",
   "language": "python",
   "name": "python3"
  },
  "language_info": {
   "codemirror_mode": {
    "name": "ipython",
    "version": 3
   },
   "file_extension": ".py",
   "mimetype": "text/x-python",
   "name": "python",
   "nbconvert_exporter": "python",
   "pygments_lexer": "ipython3",
   "version": "3.7.3"
  }
 },
 "nbformat": 4,
 "nbformat_minor": 2
}
